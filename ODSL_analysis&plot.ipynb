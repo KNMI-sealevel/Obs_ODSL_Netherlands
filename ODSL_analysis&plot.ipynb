{
 "cells": [
  {
   "cell_type": "markdown",
   "id": "a6d37c82-e82b-44d8-9f26-428a389c4a20",
   "metadata": {},
   "source": [
    "# Analyse CMIP5 and CMIP6 ODSL data and plot"
   ]
  },
  {
   "cell_type": "code",
   "execution_count": null,
   "id": "5710b7c5-43f4-49b0-b717-65dbe2cbd5f6",
   "metadata": {},
   "outputs": [],
   "source": []
  }
 ],
 "metadata": {
  "kernelspec": {
   "display_name": "Python 3 (ipykernel)",
   "language": "python",
   "name": "python3"
  },
  "language_info": {
   "codemirror_mode": {
    "name": "ipython",
    "version": 3
   },
   "file_extension": ".py",
   "mimetype": "text/x-python",
   "name": "python",
   "nbconvert_exporter": "python",
   "pygments_lexer": "ipython3",
   "version": "3.9.13"
  }
 },
 "nbformat": 4,
 "nbformat_minor": 5
}
